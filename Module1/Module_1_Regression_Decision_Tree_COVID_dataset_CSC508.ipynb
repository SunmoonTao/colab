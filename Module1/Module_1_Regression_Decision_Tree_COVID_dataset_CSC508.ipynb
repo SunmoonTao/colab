{
  "nbformat": 4,
  "nbformat_minor": 0,
  "metadata": {
    "colab": {
      "provenance": [],
      "include_colab_link": true
    },
    "kernelspec": {
      "name": "python3",
      "display_name": "Python 3"
    },
    "language_info": {
      "name": "python"
    }
  },
  "cells": [
    {
      "cell_type": "markdown",
      "metadata": {
        "id": "view-in-github",
        "colab_type": "text"
      },
      "source": [
        "<a href=\"https://colab.research.google.com/github/SunmoonTao/colab/blob/master/Module1/Module_1_Regression_Decision_Tree_COVID_dataset_CSC508.ipynb\" target=\"_parent\"><img src=\"https://colab.research.google.com/assets/colab-badge.svg\" alt=\"Open In Colab\"/></a>"
      ]
    },
    {
      "cell_type": "markdown",
      "source": [
        "## **Welcome to the Module 1 coding portion: Regression Decision Tree for Covid cases!**\n",
        "\n",
        "*This notebook was created by Lucy Moctezuma Tan, Florentine van Nouhuijs, Lorena Benitez-Rivera (SFSU master students and CoDE lab members) and Dr Pleuni Pennings (SFSU bio professor) in 2022 - 2023.*\n",
        "\n",
        "*This notebook was created at San Francisco State University (SFSU) for the Promoting INclusivity and Computing (PINC) and gSTAR programs by Dr. Pleuni Pennings (SFSU bio professor), Lucy Moctezuma Tan and Lorena Benitez Rivera (master students) all members of the COde to understand Drug resistance Evolution (CODE) lab*\n",
        "\n",
        "![faces.png](https://drive.google.com/uc?export=view&id=1rWgNhqnRk0OA1jn8NYmvhvCfYC6kTK-F)\n",
        "\n"
      ],
      "metadata": {
        "id": "0o0miCOo4bt2"
      }
    },
    {
      "cell_type": "markdown",
      "source": [
        "#About the authors\n",
        "\n",
        "Lucy Moctezuma - Learned how to code by taking online courses and by using it at work. She took the Science Coding Immersion Program (SCIP) Summer of 2021 sponsored by Dr. Pennings and has since learned Python and R programming languages. She is helping us with the coding part of the workshops, and she is also helping one of the CoDE lab teams in a machine learning project.\n",
        "\n",
        "Lorena Benitez-Rivera - Started learning how to code by taking computer science (CS) classes at City College of San Francisco (CCSF), but found them really challenging. Lorena didn’t like the CS classes, until she started taking CSC 306 which is an intro to coding for biologists at SFSU. It was there when she learned that coding can be really useful for research, and she got a minor in Computer Application during her undergraduate at SFSU.\n",
        "\n",
        "Dr. Pleuni Pennings - First started learning to code in her PhD program. She had an advisor who encouraged her to learn programming and she discovered that programming (or coding, the two words are really the same) is fun and useful and not that hard at all (OK, sometimes it is hard, but nothing we can’t learn!)\n",
        "\n",
        "Florentine van Nouhuijs - Learned how to code just a year ago when she started in the SCIP Summer of 2021, learning Python. She took CSC 306 (which is part of the GOLD/PINC program) to learn more about Python. That is when she really started to love Python and wanted to learn more about Machine Learning. She figured machine learning is not as hard as it seems to be. In fact, YOU can learn it too!\n",
        "\n",
        "You are smart enough to go to college and learn science, you are definitely smart enough to learn programming and machine learning.\n"
      ],
      "metadata": {
        "id": "MkJRpUmG1kI7"
      }
    },
    {
      "cell_type": "markdown",
      "source": [
        "#Video 1: Introduction to Machine Learning (ML)\n",
        "\n",
        "This video from Lorena will introduce you to the basics of ML"
      ],
      "metadata": {
        "id": "2G9XgkoQ0t3i"
      }
    },
    {
      "cell_type": "code",
      "source": [
        "from IPython.display import HTML\n",
        "HTML('<iframe src=\"https://player.vimeo.com/video/721612530?title=0&byline=0&portrait=0\" width=\"700\" height=\"394\" frameborder=\"0\" webkitallowfullscreen mozallowfullscreen allowfullscreen></iframe><p><a href=\"https://vimeo.com/721612530\">Welcome Video</a> from <a href=\"https://vimeo.com/showcase/9557969/video/721612530\">Introduction to Machine Learning: Decision Trees</a> on <a href=\"https://vimeo.com\">Vimeo</a>.</p>')"
      ],
      "metadata": {
        "id": "TPNxGxdr9KVK",
        "outputId": "17e03536-2b6a-4d1e-a686-99b0a2b7c4b2",
        "colab": {
          "base_uri": "https://localhost:8080/",
          "height": 445
        }
      },
      "execution_count": null,
      "outputs": [
        {
          "output_type": "execute_result",
          "data": {
            "text/plain": [
              "<IPython.core.display.HTML object>"
            ],
            "text/html": [
              "<iframe src=\"https://player.vimeo.com/video/721612530?title=0&byline=0&portrait=0\" width=\"700\" height=\"394\" frameborder=\"0\" webkitallowfullscreen mozallowfullscreen allowfullscreen></iframe><p><a href=\"https://vimeo.com/721612530\">Welcome Video</a> from <a href=\"https://vimeo.com/showcase/9557969/video/721612530\">Introduction to Machine Learning: Decision Trees</a> on <a href=\"https://vimeo.com\">Vimeo</a>.</p>"
            ]
          },
          "metadata": {},
          "execution_count": 3
        }
      ]
    },
    {
      "cell_type": "markdown",
      "metadata": {
        "id": "ujdFMuZGeNCo"
      },
      "source": [
        "\n",
        "#OBJECTIVE OF THIS NOTEBOOK:\n",
        "\n",
        "We are going to be working with **COVID data** from the 58 Counties of California during Summer 2020 (July, August and September).  \n",
        "\n",
        "**Remember the complete dataset with 58 counties from the previous video of this workshop?**\n",
        "\n",
        "Let's now imagine that we did not know the **cases per 100 000 people** for the last 18 counties of the datataset.\n",
        "\n",
        "![picture](https://drive.google.com/uc?export=view&id=1XfQuK5TQkbEr7S_y9HrlhzpQNYverE8u)\n",
        "\n",
        "**The Objective** of this exercise will be to make predictions for these missing values in the column **cases per 100 000 people** based solely on the data that we do have available.\n",
        "\n",
        "The information that we still have available for these 18 counties are:\n",
        "\n",
        "*   Population\n",
        "*   Vaccination Percentage (Partial and Fully vaccinated)\n",
        "*   Unemployment Rates\n",
        "*   Partisan Voting Percentage (Democrat, Green, Republican, Libertarian and Other)\n",
        "\n",
        "In order to do this, we will be creating a **DECISION TREE**\n",
        "\n"
      ]
    },
    {
      "cell_type": "markdown",
      "source": [
        "#Video 2: Step by step walkthrough\n",
        "\n",
        "In this video Lucy will walk you through the code in this notebook"
      ],
      "metadata": {
        "id": "yzm9z7sI1il6"
      }
    },
    {
      "cell_type": "code",
      "source": [
        "from IPython.display import HTML\n",
        "HTML('<iframe src=\"https://player.vimeo.com/video/714289121?title=0&byline=0&portrait=0\" width=\"700\" height=\"394\" frameborder=\"0\" webkitallowfullscreen mozallowfullscreen allowfullscreen></iframe><p><a href=\"https://vimeo.com/714289121\">Welcome Video</a> from <a href=\"https://vimeo.com/showcase/9557969/video/714289121\">Introduction to Machine Learning: Decision Trees</a> on <a href=\"https://vimeo.com\">Vimeo</a>.</p>')"
      ],
      "metadata": {
        "colab": {
          "base_uri": "https://localhost:8080/",
          "height": 445
        },
        "id": "sTYPsC5gBCns",
        "outputId": "388f49cd-d3f7-47d0-b290-319440de2148"
      },
      "execution_count": null,
      "outputs": [
        {
          "output_type": "execute_result",
          "data": {
            "text/plain": [
              "<IPython.core.display.HTML object>"
            ],
            "text/html": [
              "<iframe src=\"https://player.vimeo.com/video/714289121?title=0&byline=0&portrait=0\" width=\"700\" height=\"394\" frameborder=\"0\" webkitallowfullscreen mozallowfullscreen allowfullscreen></iframe><p><a href=\"https://vimeo.com/714289121\">Welcome Video</a> from <a href=\"https://vimeo.com/showcase/9557969/video/714289121\">Introduction to Machine Learning: Decision Trees</a> on <a href=\"https://vimeo.com\">Vimeo</a>.</p>"
            ]
          },
          "metadata": {},
          "execution_count": 4
        }
      ]
    },
    {
      "cell_type": "markdown",
      "metadata": {
        "id": "TwKpZ0v6oCjs"
      },
      "source": [
        "#WHAT IS A DECISION TREE?\n",
        "\n",
        " A **Decision Tree** is a supervised machine learning model that allows us to make predictions by learning simple decision rules that are inferred using available information in the dataset.\n",
        "\n",
        "- A Decision Tree is called a **\"Supervised\"**  model because we know exactly what we want to figure out. For example, for our Decision Tree, we will specify that we want to figure out the missing values of the column **\"Cases per 100 000 people\"**, and our model will try to find these values by making predictions for them using the the information we do have available.\n",
        "\n",
        "- In contrast, in an **\"Unsupervised\"**  model, we do not know exactly what we want to predict for. Instead, an Unsupervised model finds hidden relationships between different types of information and can group them based on similaries. For example, Netflix surprising you with a new show you like.\n",
        "\n",
        "A **Decision Tree** can be pictured as a tree-like flowchart, where we start with a particular criteria and based on whether this is True (Y for Yes) or False (N for No), we chose only one of the branches. This process is then repeated at every decision until we reach the bottom of the tree, where we end up with a specific prediction.\n",
        "\n",
        "![DT.png](https://drive.google.com/uc?export=view&id=1J2p8SVgo4H5br-lSFu9wiHCxH5rCxHHN)\n",
        "\n",
        "\n",
        "We will see how a Decision Tree can help us predict the missing **cases per 100 000 people** in more detail later on in this tutorial.\n",
        "\n",
        "You can find more information about different ways to clasify machine learning models here: [Machine Learning Models](https://www.geeksforgeeks.org/introduction-machine-learning/?ref=lbp)\n",
        "\n",
        "You can find more information about Decision Trees here: [Scikit-learn](https://scikit-learn.org/stable/modules/tree.html)"
      ]
    },
    {
      "cell_type": "markdown",
      "metadata": {
        "id": "Bq3DD2d04mYH"
      },
      "source": [
        "##**Step 1) Importing necessary packages into Google Colab**\n",
        "\n",
        "Before working on our model we need to import all Packages and specific Functions that we will need to use in order to work with our data.\n",
        "\n",
        "- **Packages** are essentially prepackaged code that others have made, that are often organized in chunks of code called modules, A package can contain many modules and these modules may contain several functions.\n",
        "\n",
        "- **Functions** are essentially a set of instructions to a computer that specify how to handle different types of files, what mathematical equations are used to calculate our model, how our graphs are going to be displayed, etc.\n",
        "\n",
        "The code in this notebook is organized in **Cells**\n",
        "\n",
        "In the example below we will learn how to execute or \"run\" each of the three cells, so that our code actually takes effect.\n",
        "\n",
        "**Note**: `The lines of green text that are preceded by a \"#\" are called comments, they exist only to provide explanations of what each line or chunk of code does. They are not actually part of the code.`"
      ]
    },
    {
      "cell_type": "code",
      "metadata": {
        "id": "hiOkfb7EVGc3"
      },
      "source": [
        "# Data Wrangling Imports\n",
        "import pandas as pd\n",
        "import numpy as np"
      ],
      "execution_count": null,
      "outputs": []
    },
    {
      "cell_type": "code",
      "source": [
        "# Machine Learning Models Imports\n",
        "from sklearn import tree\n",
        "from sklearn.tree import DecisionTreeRegressor"
      ],
      "metadata": {
        "id": "8BSGhkdsor_T"
      },
      "execution_count": null,
      "outputs": []
    },
    {
      "cell_type": "code",
      "source": [
        "# Model Evaluation Imports and Visualization\n",
        "from matplotlib import pyplot as plt\n",
        "import graphviz"
      ],
      "metadata": {
        "id": "f249mT3Kouud"
      },
      "execution_count": null,
      "outputs": []
    },
    {
      "cell_type": "markdown",
      "metadata": {
        "id": "2L1rGRjs4r2-"
      },
      "source": [
        "##**Step 2) Loading Training data and making sure it looks correct**\n",
        "\n",
        "Now that we have our tools, we can now examine our dataset again.\n",
        "\n",
        "Recall that we are missing the last 18 values of in the column \"cases_per 100 000\", but we still have a big chunk of complete data (40 rows). This chunk of complete information is often referred to as **Training Data**.\n",
        "\n",
        "![picture_2](https://drive.google.com/uc?export=view&id=1wzhfJBfyQMis75U7aK9Dva4lI71hkySN)\n",
        "\n",
        "**Training Data** is a machine learning terminology that refers to the Dataset used to teach our Decision Tree to make the predictions for our missing values using available data.\n"
      ]
    },
    {
      "cell_type": "markdown",
      "metadata": {
        "id": "2vR5s12pVhjx"
      },
      "source": [
        "**A)** Let's start by Loading our Training Data into the Notebook:\n"
      ]
    },
    {
      "cell_type": "code",
      "metadata": {
        "id": "tGknRD6GVrNJ"
      },
      "source": [
        "#this opens the file that contains the training data, data used to train the algorithm\n",
        "S2020_training= pd.read_csv(\"https://raw.githubusercontent.com/MarcMachineLearning/Workshop_1/main/Datasets/S2020_training.csv\")"
      ],
      "execution_count": null,
      "outputs": []
    },
    {
      "cell_type": "markdown",
      "source": [
        "**B)** Make sure that your dataset is loaded correctly, it should contain the county names and all the data highlighted in green shown in our last picture:"
      ],
      "metadata": {
        "id": "FoY6PR7iJp3K"
      }
    },
    {
      "cell_type": "code",
      "metadata": {
        "id": "-MNbTjuTX6Ma"
      },
      "source": [
        "#this will display the entire dataset\n",
        "S2020_training"
      ],
      "execution_count": null,
      "outputs": []
    },
    {
      "cell_type": "markdown",
      "metadata": {
        "id": "MrnejlZPG-w3"
      },
      "source": [
        "**C)** We can sneak a peak at what our first 5 rows look like, if your dataset is too big to be displayed."
      ]
    },
    {
      "cell_type": "code",
      "metadata": {
        "id": "zRsj3ct8HFr0"
      },
      "source": [
        "#this will display only the first 5 rows of our dataset\n",
        "S2020_training.head()"
      ],
      "execution_count": null,
      "outputs": []
    },
    {
      "cell_type": "markdown",
      "metadata": {
        "id": "udWGVg6cYzsU"
      },
      "source": [
        "**D)** Here we can see how many rows and columns the complete dataset actually has. In our example we should have (40 rows, 11 columns)"
      ]
    },
    {
      "cell_type": "code",
      "metadata": {
        "id": "pT2LIXUUNFzj",
        "colab": {
          "base_uri": "https://localhost:8080/"
        },
        "outputId": "c97f4e80-d7fb-4d2a-a662-58b70ecfe39b"
      },
      "source": [
        "#this will display only the number of rows (not including the title of the columns) and number of colums of our dataset\n",
        "S2020_training.shape"
      ],
      "execution_count": null,
      "outputs": [
        {
          "output_type": "execute_result",
          "data": {
            "text/plain": [
              "(40, 11)"
            ]
          },
          "metadata": {},
          "execution_count": 59
        }
      ]
    },
    {
      "cell_type": "markdown",
      "metadata": {
        "id": "eaLKhVaqO3yj"
      },
      "source": [
        "##**Step 3) Separate the Training Dataset into features and labels**"
      ]
    },
    {
      "cell_type": "markdown",
      "metadata": {
        "id": "bQCrQgAbXBs0"
      },
      "source": [
        "Recall that a Decision Tree is a **Supervised** Machine learning model, therefore we need to specify clearly what we are trying to predict.\n",
        "\n",
        "To do this we need to devide the Training Data into **Label** and **Features**\n",
        "\n",
        "![picture_3](https://drive.google.com/uc?export=view&id=14mYGS3Vka7XvzIBhRuikfLiljkrR0WDE)\n",
        "\n",
        "- The RED outlined column is called a **LABEL**. This is a machine learning term that refers to the data that our model will learn to predict.\n",
        "\n",
        "- The BLUE outlined columns are called **FEATURES**, which is the term that refers to the columns we would like to use to predict our chosen LABEL.\n",
        "\n",
        "Because the **Training Data** is complete, We can clearly separate LABEL from FEATURES. Remember that the Training Data is only the red and blue shaded regions of our Dataset.\n",
        "\n",
        "We can ignore the rest of the Dataset for now.\n",
        "\n",
        "**A)** Separate the Training Data into FEATURES and LABELS:"
      ]
    },
    {
      "cell_type": "code",
      "metadata": {
        "id": "IOxgX15gXbqy"
      },
      "source": [
        "#On the other hand the label will only include summer_2020 cases per 100 000\n",
        "S2020_training_labels = S2020_training[\"cases_per_100000\"]\n",
        "\n",
        "#Notice that in this code we are droping the \"county\" column, because it does not contribute with our predictions and \"cases_per_100000\" because that is our label\n",
        "S2020_training_features = S2020_training.drop(columns=[\"county\",\"cases_per_100000\"])\n",
        "\n"
      ],
      "execution_count": null,
      "outputs": []
    },
    {
      "cell_type": "markdown",
      "metadata": {
        "id": "GfuuBB_dWsg4"
      },
      "source": [
        "**B)** Run the **LABEL** to check that the separation was correctly performed (you should see 40 rows and just 1 column):"
      ]
    },
    {
      "cell_type": "code",
      "metadata": {
        "id": "u-Bv7qB8OYzV",
        "colab": {
          "base_uri": "https://localhost:8080/"
        },
        "outputId": "8cf312a5-41c7-4950-efd3-557a2d90be62"
      },
      "source": [
        "#This code allows you to see what the labels look like as a dataframe, after being separated from the training data\n",
        "S2020_training_labels = pd.DataFrame(S2020_training_labels,columns = [\"cases_per_100000\"])\n",
        "\n",
        "# This code tells you how many rows and columns this dataset has\n",
        "S2020_training_labels.shape"
      ],
      "execution_count": null,
      "outputs": [
        {
          "output_type": "execute_result",
          "data": {
            "text/plain": [
              "(40, 1)"
            ]
          },
          "metadata": {},
          "execution_count": 61
        }
      ]
    },
    {
      "cell_type": "markdown",
      "source": [
        "**C)** Run the **FEATURES** to check that the separation was correctly performed (you should see all 40 rows and 9 columns only since we dropped the columns of \"county\" and \"cases_per_100000\")"
      ],
      "metadata": {
        "id": "sfdOowc8imHT"
      }
    },
    {
      "cell_type": "code",
      "source": [
        "# This code shows\n",
        "S2020_training_features.shape"
      ],
      "metadata": {
        "id": "1Ndj47OXifk7",
        "colab": {
          "base_uri": "https://localhost:8080/"
        },
        "outputId": "4f8a8c84-d83c-4cc8-ff3e-ade0b83db03f"
      },
      "execution_count": null,
      "outputs": [
        {
          "output_type": "execute_result",
          "data": {
            "text/plain": [
              "(40, 9)"
            ]
          },
          "metadata": {},
          "execution_count": 62
        }
      ]
    },
    {
      "cell_type": "markdown",
      "metadata": {
        "id": "S5sDpcMuc0Ua"
      },
      "source": [
        "##**Step 4) Create a Decision tree object and Train it**\n",
        "\n",
        "After separating our Training data into FEATURES and LABELS, we can now create a Decision Tree.\n",
        "\n",
        "**A)** Create a Decision Tree Object"
      ]
    },
    {
      "cell_type": "code",
      "metadata": {
        "id": "6jwQSBorZs3l"
      },
      "source": [
        "#This line creates the Decison Tree with your chosen specifications (what is written within the parenthesis)\n",
        "dtr_summer2020 = DecisionTreeRegressor(random_state = 1, max_depth= 3)"
      ],
      "execution_count": null,
      "outputs": []
    },
    {
      "cell_type": "markdown",
      "metadata": {
        "id": "yVCcicxnYiBI"
      },
      "source": [
        "**B)** Train our Decision Tree using the Training data we separated in the previous step"
      ]
    },
    {
      "cell_type": "code",
      "metadata": {
        "id": "Xkr1rIjOY1Zt"
      },
      "source": [
        "# This line trains the decision tree using both the features and the labels from our training data\n",
        "dtr_summer2020 = dtr_summer2020.fit(S2020_training_features,S2020_training_labels)"
      ],
      "execution_count": null,
      "outputs": []
    },
    {
      "cell_type": "markdown",
      "metadata": {
        "id": "tDKGXaftZw_8"
      },
      "source": [
        "##**Step 5) Visualize our trained Decision Tree**\n",
        "\n",
        "Visualize our decision tree by graphing it using the following code"
      ]
    },
    {
      "cell_type": "code",
      "metadata": {
        "id": "objW7T75eoUH"
      },
      "source": [
        "# Initialize tree data object\n",
        "dtr_summer2020_dot = tree.export_graphviz(dtr_summer2020, out_file=None,\n",
        "                                feature_names=S2020_training_features.columns,\n",
        "                                filled=False, rounded=True, impurity=False)\n",
        "\n",
        "# Draw graph\n",
        "dtr_graph = graphviz.Source(dtr_summer2020_dot, format=\"png\")\n",
        "dtr_graph"
      ],
      "execution_count": null,
      "outputs": []
    },
    {
      "cell_type": "markdown",
      "metadata": {
        "id": "vAmm5EO6eaQb"
      },
      "source": [
        "###Let's try to understand what our tree learned!\n",
        "\n",
        "- **NODES** contain the Decision that must be made based on a particular criteria. You can see that nodes have 2 arrows pointing away from them. All arrows to the LEFT are taken when the criteria is satisfied, and all arrows to the RIGHT are taken when this criteria is not satisfied.\n",
        "\n",
        "- **ROOT NODE**, this node is what our model determined as the most important feature to consider when making our predictions. It tells you the feature that best splits the data and it's located at the top of the tree.\n",
        "\n",
        "- **LEAVES** contain the final outcome of the Decision path. You can see that leaves do not have arrows pointing away from them.\n",
        "\n"
      ]
    },
    {
      "cell_type": "markdown",
      "metadata": {
        "id": "-piwRWfMXpRq"
      },
      "source": [
        "##**Step 6) Make predictions using Testing data with our trained Decision Tree**\n",
        "\n",
        "We are now ready to make predictions for the counties that had the missing labels.\n",
        "\n",
        "**Below is an image showing what constitutes the Testing Data in our example**\n",
        "\n",
        "![picture_3](https://drive.google.com/uc?export=view&id=13xIeMReBo9HewaItRZroOIwyZqqXXrfL)\n",
        "\n",
        "\n",
        "In machine learning we usually call the part of the dataset that only contains the FEATURE columns as **Testing Data**.\n",
        "\n",
        "The **Testing Data** is the dataset that is used to predict the missing values of the LABEL column, based on the rules learned during the training phase.\n",
        "\n",
        "Recall that our Decision Tree Model has only been taught using the Training data (40 counties) and has never seen any of the columns of the Testing data (18 counties).\n"
      ]
    },
    {
      "cell_type": "markdown",
      "source": [
        "**A)** Let's load the Testing Data that correspond to the counties with the missing label and see what it looks like."
      ],
      "metadata": {
        "id": "rQz5Sfy2XV5L"
      }
    },
    {
      "cell_type": "code",
      "source": [
        "#this opens the file that contains the features testing data, features = data used to make a prediction\n",
        "S2020_testing_features = pd.read_csv(\"https://raw.githubusercontent.com/MarcMachineLearning/Workshop_1/main/Datasets/S2020_test_features.csv\")\n",
        "\n",
        "#this let's you see the loaded Testing Data\n",
        "S2020_testing_features"
      ],
      "metadata": {
        "id": "LEosOPKjZvFY"
      },
      "execution_count": null,
      "outputs": []
    },
    {
      "cell_type": "markdown",
      "metadata": {
        "id": "8kbXnSYJYeFp"
      },
      "source": [
        "**B)** Lets Drop the county names from the Dataset and make our predictions!"
      ]
    },
    {
      "cell_type": "code",
      "metadata": {
        "id": "N0UzcWykYcYu"
      },
      "source": [
        "#this drops the \"county\" column from our test dataset\n",
        "S2020_features_test_nocounty = S2020_testing_features.drop(columns=[\"county\"])\n",
        "\n",
        "#this uses the tree we created and makes the predictions\n",
        "S2020_labels_pred = dtr_summer2020.predict(S2020_features_test_nocounty)"
      ],
      "execution_count": null,
      "outputs": []
    },
    {
      "cell_type": "markdown",
      "metadata": {
        "id": "dtdn-J82b4Zc"
      },
      "source": [
        "**C)** Let's look at what labels our model predicted and check how it relates to our Decision Tree:\n",
        "\n",
        "![picture_3](https://drive.google.com/uc?export=view&id=1ls9qEt-UB_n5zxxTENIrsk6ZYqqVUvb0)\n"
      ]
    },
    {
      "cell_type": "code",
      "metadata": {
        "id": "m8vm4bYUbQVB",
        "colab": {
          "base_uri": "https://localhost:8080/",
          "height": 614
        },
        "outputId": "9c634758-9aef-4f6e-aa46-66c33b8d26d2"
      },
      "source": [
        "# This turns our predictions (which is currently an array) into a dataframe\n",
        "S2020_labels_preds_df = pd.DataFrame(S2020_labels_pred, columns=[\"Predicted\"])\n",
        "\n",
        "# this line adds the County name back, so that you can see what was perdicted for each county\n",
        "S2020_labels_preds_df = pd.concat([S2020_testing_features[\"county\"].reset_index(drop=True),S2020_labels_preds_df.reset_index(drop=True)],axis=1)\n",
        "\n",
        "# this lets us see what was predicted\n",
        "S2020_labels_preds_df.round(3)"
      ],
      "execution_count": null,
      "outputs": [
        {
          "output_type": "execute_result",
          "data": {
            "text/plain": [
              "           county  Predicted\n",
              "0         Alameda    702.806\n",
              "1          Colusa   2376.799\n",
              "2      San Benito   1150.798\n",
              "3            Inyo    286.158\n",
              "4          Shasta   1150.798\n",
              "5         Trinity    286.158\n",
              "6   San Francisco    702.806\n",
              "7            Mono    179.051\n",
              "8        Siskiyou    702.806\n",
              "9        Imperial   2376.799\n",
              "10         Sonoma    702.806\n",
              "11          Butte    702.806\n",
              "12      San Diego   1523.634\n",
              "13         Plumas    286.158\n",
              "14      El Dorado   1150.798\n",
              "15         Lassen   1150.798\n",
              "16   Contra Costa   1150.798\n",
              "17      Calaveras   1150.798"
            ],
            "text/html": [
              "\n",
              "  <div id=\"df-c4e13607-d69b-45ff-8b84-586fd219141e\">\n",
              "    <div class=\"colab-df-container\">\n",
              "      <div>\n",
              "<style scoped>\n",
              "    .dataframe tbody tr th:only-of-type {\n",
              "        vertical-align: middle;\n",
              "    }\n",
              "\n",
              "    .dataframe tbody tr th {\n",
              "        vertical-align: top;\n",
              "    }\n",
              "\n",
              "    .dataframe thead th {\n",
              "        text-align: right;\n",
              "    }\n",
              "</style>\n",
              "<table border=\"1\" class=\"dataframe\">\n",
              "  <thead>\n",
              "    <tr style=\"text-align: right;\">\n",
              "      <th></th>\n",
              "      <th>county</th>\n",
              "      <th>Predicted</th>\n",
              "    </tr>\n",
              "  </thead>\n",
              "  <tbody>\n",
              "    <tr>\n",
              "      <th>0</th>\n",
              "      <td>Alameda</td>\n",
              "      <td>702.806</td>\n",
              "    </tr>\n",
              "    <tr>\n",
              "      <th>1</th>\n",
              "      <td>Colusa</td>\n",
              "      <td>2376.799</td>\n",
              "    </tr>\n",
              "    <tr>\n",
              "      <th>2</th>\n",
              "      <td>San Benito</td>\n",
              "      <td>1150.798</td>\n",
              "    </tr>\n",
              "    <tr>\n",
              "      <th>3</th>\n",
              "      <td>Inyo</td>\n",
              "      <td>286.158</td>\n",
              "    </tr>\n",
              "    <tr>\n",
              "      <th>4</th>\n",
              "      <td>Shasta</td>\n",
              "      <td>1150.798</td>\n",
              "    </tr>\n",
              "    <tr>\n",
              "      <th>5</th>\n",
              "      <td>Trinity</td>\n",
              "      <td>286.158</td>\n",
              "    </tr>\n",
              "    <tr>\n",
              "      <th>6</th>\n",
              "      <td>San Francisco</td>\n",
              "      <td>702.806</td>\n",
              "    </tr>\n",
              "    <tr>\n",
              "      <th>7</th>\n",
              "      <td>Mono</td>\n",
              "      <td>179.051</td>\n",
              "    </tr>\n",
              "    <tr>\n",
              "      <th>8</th>\n",
              "      <td>Siskiyou</td>\n",
              "      <td>702.806</td>\n",
              "    </tr>\n",
              "    <tr>\n",
              "      <th>9</th>\n",
              "      <td>Imperial</td>\n",
              "      <td>2376.799</td>\n",
              "    </tr>\n",
              "    <tr>\n",
              "      <th>10</th>\n",
              "      <td>Sonoma</td>\n",
              "      <td>702.806</td>\n",
              "    </tr>\n",
              "    <tr>\n",
              "      <th>11</th>\n",
              "      <td>Butte</td>\n",
              "      <td>702.806</td>\n",
              "    </tr>\n",
              "    <tr>\n",
              "      <th>12</th>\n",
              "      <td>San Diego</td>\n",
              "      <td>1523.634</td>\n",
              "    </tr>\n",
              "    <tr>\n",
              "      <th>13</th>\n",
              "      <td>Plumas</td>\n",
              "      <td>286.158</td>\n",
              "    </tr>\n",
              "    <tr>\n",
              "      <th>14</th>\n",
              "      <td>El Dorado</td>\n",
              "      <td>1150.798</td>\n",
              "    </tr>\n",
              "    <tr>\n",
              "      <th>15</th>\n",
              "      <td>Lassen</td>\n",
              "      <td>1150.798</td>\n",
              "    </tr>\n",
              "    <tr>\n",
              "      <th>16</th>\n",
              "      <td>Contra Costa</td>\n",
              "      <td>1150.798</td>\n",
              "    </tr>\n",
              "    <tr>\n",
              "      <th>17</th>\n",
              "      <td>Calaveras</td>\n",
              "      <td>1150.798</td>\n",
              "    </tr>\n",
              "  </tbody>\n",
              "</table>\n",
              "</div>\n",
              "      <button class=\"colab-df-convert\" onclick=\"convertToInteractive('df-c4e13607-d69b-45ff-8b84-586fd219141e')\"\n",
              "              title=\"Convert this dataframe to an interactive table.\"\n",
              "              style=\"display:none;\">\n",
              "        \n",
              "  <svg xmlns=\"http://www.w3.org/2000/svg\" height=\"24px\"viewBox=\"0 0 24 24\"\n",
              "       width=\"24px\">\n",
              "    <path d=\"M0 0h24v24H0V0z\" fill=\"none\"/>\n",
              "    <path d=\"M18.56 5.44l.94 2.06.94-2.06 2.06-.94-2.06-.94-.94-2.06-.94 2.06-2.06.94zm-11 1L8.5 8.5l.94-2.06 2.06-.94-2.06-.94L8.5 2.5l-.94 2.06-2.06.94zm10 10l.94 2.06.94-2.06 2.06-.94-2.06-.94-.94-2.06-.94 2.06-2.06.94z\"/><path d=\"M17.41 7.96l-1.37-1.37c-.4-.4-.92-.59-1.43-.59-.52 0-1.04.2-1.43.59L10.3 9.45l-7.72 7.72c-.78.78-.78 2.05 0 2.83L4 21.41c.39.39.9.59 1.41.59.51 0 1.02-.2 1.41-.59l7.78-7.78 2.81-2.81c.8-.78.8-2.07 0-2.86zM5.41 20L4 18.59l7.72-7.72 1.47 1.35L5.41 20z\"/>\n",
              "  </svg>\n",
              "      </button>\n",
              "      \n",
              "  <style>\n",
              "    .colab-df-container {\n",
              "      display:flex;\n",
              "      flex-wrap:wrap;\n",
              "      gap: 12px;\n",
              "    }\n",
              "\n",
              "    .colab-df-convert {\n",
              "      background-color: #E8F0FE;\n",
              "      border: none;\n",
              "      border-radius: 50%;\n",
              "      cursor: pointer;\n",
              "      display: none;\n",
              "      fill: #1967D2;\n",
              "      height: 32px;\n",
              "      padding: 0 0 0 0;\n",
              "      width: 32px;\n",
              "    }\n",
              "\n",
              "    .colab-df-convert:hover {\n",
              "      background-color: #E2EBFA;\n",
              "      box-shadow: 0px 1px 2px rgba(60, 64, 67, 0.3), 0px 1px 3px 1px rgba(60, 64, 67, 0.15);\n",
              "      fill: #174EA6;\n",
              "    }\n",
              "\n",
              "    [theme=dark] .colab-df-convert {\n",
              "      background-color: #3B4455;\n",
              "      fill: #D2E3FC;\n",
              "    }\n",
              "\n",
              "    [theme=dark] .colab-df-convert:hover {\n",
              "      background-color: #434B5C;\n",
              "      box-shadow: 0px 1px 3px 1px rgba(0, 0, 0, 0.15);\n",
              "      filter: drop-shadow(0px 1px 2px rgba(0, 0, 0, 0.3));\n",
              "      fill: #FFFFFF;\n",
              "    }\n",
              "  </style>\n",
              "\n",
              "      <script>\n",
              "        const buttonEl =\n",
              "          document.querySelector('#df-c4e13607-d69b-45ff-8b84-586fd219141e button.colab-df-convert');\n",
              "        buttonEl.style.display =\n",
              "          google.colab.kernel.accessAllowed ? 'block' : 'none';\n",
              "\n",
              "        async function convertToInteractive(key) {\n",
              "          const element = document.querySelector('#df-c4e13607-d69b-45ff-8b84-586fd219141e');\n",
              "          const dataTable =\n",
              "            await google.colab.kernel.invokeFunction('convertToInteractive',\n",
              "                                                     [key], {});\n",
              "          if (!dataTable) return;\n",
              "\n",
              "          const docLinkHtml = 'Like what you see? Visit the ' +\n",
              "            '<a target=\"_blank\" href=https://colab.research.google.com/notebooks/data_table.ipynb>data table notebook</a>'\n",
              "            + ' to learn more about interactive tables.';\n",
              "          element.innerHTML = '';\n",
              "          dataTable['output_type'] = 'display_data';\n",
              "          await google.colab.output.renderOutput(dataTable, element);\n",
              "          const docLink = document.createElement('div');\n",
              "          docLink.innerHTML = docLinkHtml;\n",
              "          element.appendChild(docLink);\n",
              "        }\n",
              "      </script>\n",
              "    </div>\n",
              "  </div>\n",
              "  "
            ]
          },
          "metadata": {},
          "execution_count": 68
        }
      ]
    },
    {
      "cell_type": "markdown",
      "metadata": {
        "id": "E1W_kQwBa2Vh"
      },
      "source": [
        "##**Step 7) Let's see How our Decicion Tree Model Performed**\n",
        "\n",
        "Now that we have predicted the missing labels for Summer 2020 cases. Let's see how our model did by comparing it with the actual labels!\n",
        "\n",
        "**A)** Let's Reveal now our ACTUAL labels by loading them into the Notebook"
      ]
    },
    {
      "cell_type": "code",
      "source": [
        "#this opens the file that contains the label testing data, label = what we want to predict\n",
        "S2020_testing_labels = pd.read_csv(\"https://raw.githubusercontent.com/MarcMachineLearning/Workshop_1/main/Datasets/S2020_test_labels.csv\")\n",
        "\n",
        "# This drops the county on our label data so that the dataframe only has one column with county names when is joined with the predicted dataframe\n",
        "S2020_testing_labels = S2020_testing_labels.drop(columns=[\"county\"])"
      ],
      "metadata": {
        "id": "iJiWA-b5NSVe"
      },
      "execution_count": null,
      "outputs": []
    },
    {
      "cell_type": "markdown",
      "source": [
        "**B)** We can use a Bargraph to help us visually inspect how our model performed"
      ],
      "metadata": {
        "id": "5GtJ_4k-pnNS"
      }
    },
    {
      "cell_type": "code",
      "metadata": {
        "id": "NAsEnU9ofhnh"
      },
      "source": [
        "#This puts into a single dataframe our predictions with our original test labels\n",
        "pred_vs_test_2020 = pd.concat([S2020_testing_labels.reset_index(drop=True),S2020_labels_preds_df.reset_index(drop=True)],axis=1)\n",
        "\n",
        "#This plots the data in a barchart per county\n",
        "pred_vs_test_plot = pred_vs_test_2020.plot.barh(color={\"Predicted\": \"orange\", \"cases_per_100000\": \"darkblue\"},x=\"county\",figsize=(15,15), yticks=np.arange(0,4000,500))"
      ],
      "execution_count": null,
      "outputs": []
    },
    {
      "cell_type": "markdown",
      "metadata": {
        "id": "9mvyWU5-JEIc"
      },
      "source": [
        "##**Step 8) Lets try using our Summer 2020 Tree model to predict 2021 Data**\n",
        "\n",
        "**A)** Let's load the Features information for the same 18 counties, but this time for Summer 2021."
      ]
    },
    {
      "cell_type": "code",
      "source": [
        "#Importing Summer 2021 Data to predict using \"Summer2020 Model\"\n",
        "S2021_testing_features = pd.read_csv(\"https://raw.githubusercontent.com/MarcMachineLearning/Workshop_1/main/Datasets/S2021_test_features.csv\")\n",
        "\n",
        "# make predictions for Summer 2021 Data\n",
        "S2021_labels_pred = dtr_summer2020.predict(S2021_testing_features.drop(columns=[\"county\"]))"
      ],
      "metadata": {
        "id": "sUa7LQiCjxgs"
      },
      "execution_count": null,
      "outputs": []
    },
    {
      "cell_type": "markdown",
      "source": [
        "**B)** Let's now load the Actual 2021 Summer data and see how our 2020 Decision Tree Model Performed this time."
      ],
      "metadata": {
        "id": "IM8JtSE5vJ7B"
      }
    },
    {
      "cell_type": "code",
      "source": [
        "#Importing Labels of Summer 2021 Data to check accuracy of \"Summer2020 Model\" predicting Summer2021 Data\n",
        "S2021_testing_labels = pd.read_csv(\"https://raw.githubusercontent.com/MarcMachineLearning/Workshop_1/main/Datasets/S2021_test_labels.csv\")\n",
        "\n",
        "# This turns our predictions (which is currently an array) into a dataframe\n",
        "S2021_labels_preds = pd.DataFrame(S2021_labels_pred, columns=[\"Predicted\"])\n",
        "\n",
        "# #This puts into a single dataframe our predictions with our original test labels\n",
        "pred_vs_test_2021 = pd.concat([S2021_testing_labels.reset_index(drop=True),S2021_labels_preds.reset_index(drop=True)],axis=1)\n",
        "\n",
        "#Visualize performance for Summer 2021 predictions\n",
        "pred_vs_test_plot = pred_vs_test_2021.plot.barh(color={\"Predicted\": \"orange\", \"cases_per_100000\": \"teal\"},x=\"county\",figsize=(15,15), yticks=np.arange(0,4000,500))"
      ],
      "metadata": {
        "id": "LNV1vk3EvAFW"
      },
      "execution_count": null,
      "outputs": []
    },
    {
      "cell_type": "markdown",
      "source": [
        "#Video 3: Recap\n",
        "\n",
        "In this video Dr Pennings will recap what we have done until now."
      ],
      "metadata": {
        "id": "kNp4aCkt3EyU"
      }
    },
    {
      "cell_type": "code",
      "source": [
        "from IPython.display import HTML\n",
        "HTML('<iframe src=\"https://player.vimeo.com/video/714289135?title=0&byline=0&portrait=0\" width=\"700\" height=\"394\" frameborder=\"0\" webkitallowfullscreen mozallowfullscreen allowfullscreen></iframe><p><a href=\"https://vimeo.com/714289135\">Welcome Video</a> from <a href=\"https://vimeo.com/showcase/9557969/video/714289135\">Introduction to Machine Learning: Decision Trees</a> on <a href=\"https://vimeo.com\">Vimeo</a>.</p>')"
      ],
      "metadata": {
        "colab": {
          "base_uri": "https://localhost:8080/",
          "height": 445
        },
        "id": "fDkVG_e1Bx7X",
        "outputId": "205a5aa4-3630-47b8-8ec2-9d16f6c42b43"
      },
      "execution_count": null,
      "outputs": [
        {
          "output_type": "execute_result",
          "data": {
            "text/plain": [
              "<IPython.core.display.HTML object>"
            ],
            "text/html": [
              "<iframe src=\"https://player.vimeo.com/video/714289135?title=0&byline=0&portrait=0\" width=\"700\" height=\"394\" frameborder=\"0\" webkitallowfullscreen mozallowfullscreen allowfullscreen></iframe><p><a href=\"https://vimeo.com/714289135\">Welcome Video</a> from <a href=\"https://vimeo.com/showcase/9557969/video/714289135\">Introduction to Machine Learning: Decision Trees</a> on <a href=\"https://vimeo.com\">Vimeo</a>.</p>"
            ]
          },
          "metadata": {},
          "execution_count": 5
        }
      ]
    },
    {
      "cell_type": "markdown",
      "metadata": {
        "id": "ELw3rmGc6o2I"
      },
      "source": [
        "#**Let's make a NEW Decision Tree for Summer 2021 and improve our predictions!**\n",
        "\n",
        "In order to expedite the making of the NEW Decision Tree, we can skip a few steps, and only copy-paste the required lines of code.\n",
        "\n",
        "*   You DON'T need to copy-paste the comments from the orginal code (The green text that is preceded by \"#\").\n",
        "*   Follow instead the instructions written as a comment in this following exercise to create a NEW Decision Tree for Summer 2021 Data.\n"
      ]
    },
    {
      "cell_type": "markdown",
      "source": [
        "#Last video: a model for summer 2021\n",
        "\n",
        "Florentine walks you through making the 2021 model.\n",
        "\n"
      ],
      "metadata": {
        "id": "ITc8KyUe3Yds"
      }
    },
    {
      "cell_type": "code",
      "source": [
        "from IPython.display import HTML\n",
        "HTML('<iframe src=\"https://player.vimeo.com/video/714289066?title=0&byline=0&portrait=0\" width=\"700\" height=\"394\" frameborder=\"0\" webkitallowfullscreen mozallowfullscreen allowfullscreen></iframe><p><a href=\"https://vimeo.com/714289066\">Welcome Video</a> from <a href=\"https://vimeo.com/showcase/9557969/video/714289066\">Introduction to Machine Learning: Decision Trees</a> on <a href=\"https://vimeo.com\">Vimeo</a>.</p>')"
      ],
      "metadata": {
        "colab": {
          "base_uri": "https://localhost:8080/",
          "height": 445
        },
        "id": "u0qlitKJClwN",
        "outputId": "abb3f702-621a-4244-e801-3688a778f619"
      },
      "execution_count": null,
      "outputs": [
        {
          "output_type": "execute_result",
          "data": {
            "text/plain": [
              "<IPython.core.display.HTML object>"
            ],
            "text/html": [
              "<iframe src=\"https://player.vimeo.com/video/714289066?title=0&byline=0&portrait=0\" width=\"700\" height=\"394\" frameborder=\"0\" webkitallowfullscreen mozallowfullscreen allowfullscreen></iframe><p><a href=\"https://vimeo.com/714289066\">Welcome Video</a> from <a href=\"https://vimeo.com/showcase/9557969/video/714289066\">Introduction to Machine Learning: Decision Trees</a> on <a href=\"https://vimeo.com\">Vimeo</a>.</p>"
            ]
          },
          "metadata": {},
          "execution_count": 13
        }
      ]
    },
    {
      "cell_type": "markdown",
      "source": [
        "##**1) Repeat Step 2A (Loading 2021 Training Data)**\n",
        "\n",
        "SKIP:\n",
        "\n",
        "- Step 1, because there is no need to import our libraries again, we usually only import once per notebook.\n",
        "\n",
        "#####**NOTES: When you copy-paste code, don't forget to change 2020 into 2021, everytime you see it, including the links!!**"
      ],
      "metadata": {
        "id": "v1mbVnlldtFv"
      }
    },
    {
      "cell_type": "code",
      "source": [
        "#Copy-paste the code from Step 2A that will load our Summer 2021 training data\n"
      ],
      "metadata": {
        "id": "uWeqgXsjkXrM"
      },
      "execution_count": null,
      "outputs": []
    },
    {
      "cell_type": "markdown",
      "metadata": {
        "id": "AlXHHseWBmfB"
      },
      "source": [
        "##**2) Repeat Step 3A (Separate Training Data into LABEL and FEATURES)**\n",
        "SKIP:\n",
        "- Steps 3B and 3C, since this step was only done to allow you to see what the labels look like once we separated it from our main training data.\n",
        "\n",
        "#####**NOTE: When you copy-paste code, don't forget to change 2020 into 2021, everytime you see it!!**"
      ]
    },
    {
      "cell_type": "code",
      "source": [
        "#Copy-paste the code from Step 3A that separates the FEATURES & LABEL from the training data\n",
        "\n"
      ],
      "metadata": {
        "id": "ZAS9ZndPJIUw"
      },
      "execution_count": null,
      "outputs": []
    },
    {
      "cell_type": "markdown",
      "metadata": {
        "id": "ZXBkttrpBvmq"
      },
      "source": [
        "##**3) Repeat steps 4A and 4B (Create your Decision Tree and Train it!)**\n",
        "\n",
        "\n",
        "#####**NOTE: When you copy-paste code, don't forget to change 2020 into 2021, everytime you see it!!**"
      ]
    },
    {
      "cell_type": "code",
      "metadata": {
        "id": "vazDan-CD7u9"
      },
      "source": [
        "# Copy-paste the Code from Step 4A that will allow us to create our NEW Decision Tree\n"
      ],
      "execution_count": null,
      "outputs": []
    },
    {
      "cell_type": "code",
      "source": [
        "# Copy-paste the Code from step 4B that will train our NEW Decision Tree\n"
      ],
      "metadata": {
        "id": "9odrah3qgCK0"
      },
      "execution_count": null,
      "outputs": []
    },
    {
      "cell_type": "markdown",
      "metadata": {
        "id": "cqnAeMedBru_"
      },
      "source": [
        "##**4) Repeat step 5 (Visualize your 2021 Decision Tree)**\n",
        "\n",
        "#####**NOTE: When you copy-paste code, don't forget to change 2020 into 2021, everytime you see it!!**"
      ]
    },
    {
      "cell_type": "code",
      "source": [
        "# Copy-paste the code from step 5 that will let you see the New 2021 Decision Tree\n"
      ],
      "metadata": {
        "id": "QMw9rOlzejeT"
      },
      "execution_count": null,
      "outputs": []
    },
    {
      "cell_type": "markdown",
      "metadata": {
        "id": "8wI2sQdeyWp1"
      },
      "source": [
        "##**5) Repeat step 6A, 6B, 6C (Load Testing Data and make your Predictions)**\n",
        "\n",
        "#####**NOTE: When you copy-paste code, don't forget to change 2020 into 2021, everytime you see it!!**"
      ]
    },
    {
      "cell_type": "code",
      "source": [
        "# Copy-paste the code from step 6A to load and see your Summer 2021 Testing data\n"
      ],
      "metadata": {
        "id": "jXcsYi_dgVzS",
        "colab": {
          "base_uri": "https://localhost:8080/",
          "height": 206
        },
        "outputId": "61f2771a-3813-41db-9c0b-4d9b81709c82"
      },
      "execution_count": null,
      "outputs": [
        {
          "output_type": "execute_result",
          "data": {
            "text/plain": [
              "       county  cases_per_100000\n",
              "0     Alameda       1372.631364\n",
              "1      Colusa       1894.392068\n",
              "2  San Benito       1397.956952\n",
              "3        Inyo       1847.938005\n",
              "4      Shasta       3555.992694"
            ],
            "text/html": [
              "\n",
              "  <div id=\"df-49760696-3b0b-4237-86b8-97f5b1ad4b33\">\n",
              "    <div class=\"colab-df-container\">\n",
              "      <div>\n",
              "<style scoped>\n",
              "    .dataframe tbody tr th:only-of-type {\n",
              "        vertical-align: middle;\n",
              "    }\n",
              "\n",
              "    .dataframe tbody tr th {\n",
              "        vertical-align: top;\n",
              "    }\n",
              "\n",
              "    .dataframe thead th {\n",
              "        text-align: right;\n",
              "    }\n",
              "</style>\n",
              "<table border=\"1\" class=\"dataframe\">\n",
              "  <thead>\n",
              "    <tr style=\"text-align: right;\">\n",
              "      <th></th>\n",
              "      <th>county</th>\n",
              "      <th>cases_per_100000</th>\n",
              "    </tr>\n",
              "  </thead>\n",
              "  <tbody>\n",
              "    <tr>\n",
              "      <th>0</th>\n",
              "      <td>Alameda</td>\n",
              "      <td>1372.631364</td>\n",
              "    </tr>\n",
              "    <tr>\n",
              "      <th>1</th>\n",
              "      <td>Colusa</td>\n",
              "      <td>1894.392068</td>\n",
              "    </tr>\n",
              "    <tr>\n",
              "      <th>2</th>\n",
              "      <td>San Benito</td>\n",
              "      <td>1397.956952</td>\n",
              "    </tr>\n",
              "    <tr>\n",
              "      <th>3</th>\n",
              "      <td>Inyo</td>\n",
              "      <td>1847.938005</td>\n",
              "    </tr>\n",
              "    <tr>\n",
              "      <th>4</th>\n",
              "      <td>Shasta</td>\n",
              "      <td>3555.992694</td>\n",
              "    </tr>\n",
              "  </tbody>\n",
              "</table>\n",
              "</div>\n",
              "      <button class=\"colab-df-convert\" onclick=\"convertToInteractive('df-49760696-3b0b-4237-86b8-97f5b1ad4b33')\"\n",
              "              title=\"Convert this dataframe to an interactive table.\"\n",
              "              style=\"display:none;\">\n",
              "        \n",
              "  <svg xmlns=\"http://www.w3.org/2000/svg\" height=\"24px\"viewBox=\"0 0 24 24\"\n",
              "       width=\"24px\">\n",
              "    <path d=\"M0 0h24v24H0V0z\" fill=\"none\"/>\n",
              "    <path d=\"M18.56 5.44l.94 2.06.94-2.06 2.06-.94-2.06-.94-.94-2.06-.94 2.06-2.06.94zm-11 1L8.5 8.5l.94-2.06 2.06-.94-2.06-.94L8.5 2.5l-.94 2.06-2.06.94zm10 10l.94 2.06.94-2.06 2.06-.94-2.06-.94-.94-2.06-.94 2.06-2.06.94z\"/><path d=\"M17.41 7.96l-1.37-1.37c-.4-.4-.92-.59-1.43-.59-.52 0-1.04.2-1.43.59L10.3 9.45l-7.72 7.72c-.78.78-.78 2.05 0 2.83L4 21.41c.39.39.9.59 1.41.59.51 0 1.02-.2 1.41-.59l7.78-7.78 2.81-2.81c.8-.78.8-2.07 0-2.86zM5.41 20L4 18.59l7.72-7.72 1.47 1.35L5.41 20z\"/>\n",
              "  </svg>\n",
              "      </button>\n",
              "      \n",
              "  <style>\n",
              "    .colab-df-container {\n",
              "      display:flex;\n",
              "      flex-wrap:wrap;\n",
              "      gap: 12px;\n",
              "    }\n",
              "\n",
              "    .colab-df-convert {\n",
              "      background-color: #E8F0FE;\n",
              "      border: none;\n",
              "      border-radius: 50%;\n",
              "      cursor: pointer;\n",
              "      display: none;\n",
              "      fill: #1967D2;\n",
              "      height: 32px;\n",
              "      padding: 0 0 0 0;\n",
              "      width: 32px;\n",
              "    }\n",
              "\n",
              "    .colab-df-convert:hover {\n",
              "      background-color: #E2EBFA;\n",
              "      box-shadow: 0px 1px 2px rgba(60, 64, 67, 0.3), 0px 1px 3px 1px rgba(60, 64, 67, 0.15);\n",
              "      fill: #174EA6;\n",
              "    }\n",
              "\n",
              "    [theme=dark] .colab-df-convert {\n",
              "      background-color: #3B4455;\n",
              "      fill: #D2E3FC;\n",
              "    }\n",
              "\n",
              "    [theme=dark] .colab-df-convert:hover {\n",
              "      background-color: #434B5C;\n",
              "      box-shadow: 0px 1px 3px 1px rgba(0, 0, 0, 0.15);\n",
              "      filter: drop-shadow(0px 1px 2px rgba(0, 0, 0, 0.3));\n",
              "      fill: #FFFFFF;\n",
              "    }\n",
              "  </style>\n",
              "\n",
              "      <script>\n",
              "        const buttonEl =\n",
              "          document.querySelector('#df-49760696-3b0b-4237-86b8-97f5b1ad4b33 button.colab-df-convert');\n",
              "        buttonEl.style.display =\n",
              "          google.colab.kernel.accessAllowed ? 'block' : 'none';\n",
              "\n",
              "        async function convertToInteractive(key) {\n",
              "          const element = document.querySelector('#df-49760696-3b0b-4237-86b8-97f5b1ad4b33');\n",
              "          const dataTable =\n",
              "            await google.colab.kernel.invokeFunction('convertToInteractive',\n",
              "                                                     [key], {});\n",
              "          if (!dataTable) return;\n",
              "\n",
              "          const docLinkHtml = 'Like what you see? Visit the ' +\n",
              "            '<a target=\"_blank\" href=https://colab.research.google.com/notebooks/data_table.ipynb>data table notebook</a>'\n",
              "            + ' to learn more about interactive tables.';\n",
              "          element.innerHTML = '';\n",
              "          dataTable['output_type'] = 'display_data';\n",
              "          await google.colab.output.renderOutput(dataTable, element);\n",
              "          const docLink = document.createElement('div');\n",
              "          docLink.innerHTML = docLinkHtml;\n",
              "          element.appendChild(docLink);\n",
              "        }\n",
              "      </script>\n",
              "    </div>\n",
              "  </div>\n",
              "  "
            ]
          },
          "metadata": {},
          "execution_count": 79
        }
      ]
    },
    {
      "cell_type": "code",
      "source": [
        "# Copy-paste the code from step 6B to drop the county out of the testing Data and make your predictions!\n"
      ],
      "metadata": {
        "id": "m7vByP31zfCM"
      },
      "execution_count": null,
      "outputs": []
    },
    {
      "cell_type": "code",
      "source": [
        "# Copy-paste the code from step 6C to look at the lables that our new model has predicted\n"
      ],
      "metadata": {
        "id": "lJquv39tz8f3"
      },
      "execution_count": null,
      "outputs": []
    },
    {
      "cell_type": "markdown",
      "metadata": {
        "id": "d-iSiVc70WED"
      },
      "source": [
        "##**5) Repeat step 7A, 7B (Check the Accuracy of the Predictions of the new Model Created)**\n",
        "\n",
        "#####**NOTE: When you copy-paste code, don't forget to change 2020 into 2021, everytime you see it!!**"
      ]
    },
    {
      "cell_type": "code",
      "metadata": {
        "id": "bX8WvzaIBmGN"
      },
      "source": [
        "# Copy-paste the code from Step 7A to load our ACTUAL 2021 Labels and drop the county since it's not part of the labels per se\n"
      ],
      "execution_count": null,
      "outputs": []
    },
    {
      "cell_type": "code",
      "source": [
        "# Copy-paste the code from Step 7B to make a bargraph and inspect the Accuracy of your new 2021 Decision Tree Model\n"
      ],
      "metadata": {
        "id": "lXTgcCyO0xKl"
      },
      "execution_count": null,
      "outputs": []
    },
    {
      "cell_type": "markdown",
      "source": [
        "# 🙂 Congratulations! You are on your way to mastering machine learning. We hope you had a great time learning and applying the first machine learning concepts in this notebook."
      ],
      "metadata": {
        "id": "1UsrBTAk5buA"
      }
    }
  ]
}