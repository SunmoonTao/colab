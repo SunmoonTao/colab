{
  "cells": [
    {
      "cell_type": "markdown",
      "metadata": {
        "id": "view-in-github",
        "colab_type": "text"
      },
      "source": [
        "<a href=\"https://colab.research.google.com/github/SunmoonTao/colab/blob/master/Bridging_9005_to_9006_notebook.ipynb\" target=\"_parent\"><img src=\"https://colab.research.google.com/assets/colab-badge.svg\" alt=\"Open In Colab\"/></a>"
      ]
    },
    {
      "cell_type": "markdown",
      "source": [
        "# Introduction:\n",
        "\n",
        "In 9006 you learn about Object-Oriented Programming (OOP). In 9005 we used Classes and OOP concepts without realzing it! Let's go ahead and take a look at some of those examples:\n"
      ],
      "metadata": {
        "id": "xo7fSDouOWQf"
      }
    },
    {
      "cell_type": "markdown",
      "source": [
        "Here we defined an Object a, which belongs to the Integer class!"
      ],
      "metadata": {
        "id": "vVSC8gnMPOSv"
      }
    },
    {
      "cell_type": "code",
      "source": [
        "a = 28\n",
        "print(type(a))\n",
        "\n",
        "#output:\n",
        "# <class 'int'>"
      ],
      "metadata": {
        "id": "oKizyc0aN8DQ"
      },
      "execution_count": null,
      "outputs": []
    },
    {
      "cell_type": "markdown",
      "source": [
        "Here we defined an Object l, that belongs to the List class."
      ],
      "metadata": {
        "id": "7Hk-X-e7QaqG"
      }
    },
    {
      "cell_type": "code",
      "source": [
        "l = [1, 2, 3]\n",
        "print(type(l))\n",
        "\n",
        "# output:\n",
        "# <class 'list'>"
      ],
      "metadata": {
        "id": "NeIVH7NNOVoa"
      },
      "execution_count": null,
      "outputs": []
    },
    {
      "cell_type": "code",
      "source": [
        "# we can use dir() to see all of the methods allowed in the object\n",
        "dir(l)"
      ],
      "metadata": {
        "id": "bpj_J3pOOVko"
      },
      "execution_count": null,
      "outputs": []
    },
    {
      "cell_type": "code",
      "source": [
        "# what are some other possible built-in Python Classes that we have worked with?"
      ],
      "metadata": {
        "id": "hBItjOY4KJd-"
      },
      "execution_count": null,
      "outputs": []
    },
    {
      "cell_type": "markdown",
      "source": [
        "##Methods\n",
        "A method is a special kind of function - one that belongs to a specific class of objects. Methods usually perform specific tasks involving that type of object. Though all methods are functions, not all functions are methods. Python has a number of built-in methods on different objects in Python (such as strings and lists)"
      ],
      "metadata": {
        "id": "SgsPNAJPQuzV"
      }
    },
    {
      "cell_type": "markdown",
      "source": [
        "[Methods for strings](https://www.w3schools.com/python/python_strings_methods.asp)\n",
        "\n",
        "[Methods for lists](https://www.w3schools.com/python/python_lists_methods.asp)\n",
        "\n",
        "Check out more about the list method .append() [here](https://www.w3schools.com/python/ref_list_append.asp)"
      ],
      "metadata": {
        "id": "5VnV-YsAQuvy"
      }
    },
    {
      "cell_type": "markdown",
      "source": [
        "In this example, we are using the ```append()``` method (a special kind of function) on the Object ```list1``` that is a List class."
      ],
      "metadata": {
        "id": "1Jur3GANQ4EO"
      }
    },
    {
      "cell_type": "code",
      "source": [
        "# using the list method .append() this will add an element to our list\n",
        "list1 = [1, 2, 3]\n",
        "list1.append('yay') # we want to add 'yay' to our list\n",
        "print(list1)\n",
        "print(type(list1))\n",
        "print(len(list1)) # to get the length of the list"
      ],
      "metadata": {
        "id": "C63KWlB9Q11n"
      },
      "execution_count": null,
      "outputs": []
    },
    {
      "cell_type": "markdown",
      "source": [
        "In this case, ```list1``` is the Object, that belongs to the List Class. And we can use specific methods, such as ```append()```, on that object ```list1```."
      ],
      "metadata": {
        "id": "5SWuZ-_8-s1T"
      }
    },
    {
      "cell_type": "markdown",
      "source": [
        "# A few more examples of Classes we used in 9005"
      ],
      "metadata": {
        "id": "4FF-M5FoXPDl"
      }
    },
    {
      "cell_type": "markdown",
      "source": [
        "**File handling with ```open()```**\n",
        "\n",
        "When you open a file in Python, you're using a class called file. The ```open()``` function returns an instance of this class that you can use to read from or write to the file."
      ],
      "metadata": {
        "id": "Vagv3tdLXfiX"
      }
    },
    {
      "cell_type": "code",
      "source": [
        "file = open(\"example.txt\", \"r\")\n",
        "content = file.read()\n",
        "file.close()\n"
      ],
      "metadata": {
        "id": "zNzFhhi3XXF8"
      },
      "execution_count": null,
      "outputs": []
    },
    {
      "cell_type": "markdown",
      "source": [
        "**Working with Time and Dates**\n",
        "\n",
        "Python's ```datetime``` module uses classes to represent dates and times. You can create instances of classes like ```datetime.datetime``` to work with dates and times."
      ],
      "metadata": {
        "id": "e-bp2WGxXurt"
      }
    },
    {
      "cell_type": "code",
      "source": [
        "from datetime import datetime\n",
        "\n",
        "now = datetime.now()\n",
        "print(now.year, now.month, now.day)\n"
      ],
      "metadata": {
        "id": "poa5Ip6pXXBs"
      },
      "execution_count": null,
      "outputs": []
    },
    {
      "cell_type": "markdown",
      "source": [
        "**PANDAS Data Input and Output Functions:**\n",
        "\n",
        "A Class we encountered when working with PANDAS\n",
        "\n",
        "Pandas provides classes for reading and writing data from various file formats, such as ```read_csv()```, ```read_excel()```, ```to_csv()```, and ```to_excel()```. These classes facilitate data import and export."
      ],
      "metadata": {
        "id": "fxSs61cUYPOD"
      }
    },
    {
      "cell_type": "code",
      "source": [
        "import pandas as pd\n",
        "\n",
        "# Reading data from a CSV file\n",
        "df = pd.read_csv('data.csv')\n",
        "\n",
        "# Writing data to a CSV file\n",
        "df.to_csv('output.csv', index=False)\n"
      ],
      "metadata": {
        "id": "bsGFU2c3XWvl"
      },
      "execution_count": null,
      "outputs": []
    },
    {
      "cell_type": "markdown",
      "source": [
        "**Matplotlib example\n",
        "```matplotlib.figure.Figure```:**\n",
        "\n",
        "The Figure class represents the entire figure or window in which your plot is displayed. It acts as a container for one or more Axes objects.\n"
      ],
      "metadata": {
        "id": "pwM2wedXY4O7"
      }
    },
    {
      "cell_type": "code",
      "source": [
        "import matplotlib.pyplot as plt\n",
        "\n",
        "fig = plt.figure()\n"
      ],
      "metadata": {
        "id": "3h7f3_lOZNxt"
      },
      "execution_count": null,
      "outputs": []
    },
    {
      "cell_type": "markdown",
      "source": [
        "**```matplotlib.axes.Axes```:**\n",
        "\n",
        "The Axes class represents a subplot or individual plot within a figure. It's where you add and customize various plot elements, like lines, points, and labels.\n"
      ],
      "metadata": {
        "id": "nuZM25xYZPVC"
      }
    },
    {
      "cell_type": "code",
      "source": [
        "import matplotlib.pyplot as plt\n",
        "\n",
        "fig, ax = plt.subplots()\n",
        "ax.plot(x, y)\n",
        "ax.set_xlabel('X-axis')\n",
        "ax.set_ylabel('Y-axis')\n",
        "ax.set_title('Simple Line Plot')\n"
      ],
      "metadata": {
        "id": "vg9X6_wdZPAJ"
      },
      "execution_count": null,
      "outputs": []
    },
    {
      "cell_type": "markdown",
      "source": [
        "# OOP basics"
      ],
      "metadata": {
        "id": "JDDKZTVzT3LK"
      }
    },
    {
      "cell_type": "markdown",
      "source": [
        "Imagine you have a box of toy cars. Each toy car can do different things. Some can go fast, some can honk, and some can even have their lights turned on.\n",
        "\n",
        "Now, think of Object-Oriented Programming (OOP) like this:\n",
        "\n",
        "1. **Objects**: Each toy car is like an \"object\" in OOP. It's a special thing that can do stuff.\n",
        "\n",
        "2. **Classes**: The word \"class\" is like a blueprint. It tells us how to make a toy car. So, if you have a class for toy cars, you can make many toy cars that all work the same way.\n",
        "\n",
        "3. **Attributes**: Just like real cars have different colors, toy cars can have things that make them unique. In OOP, we call these things \"attributes.\" So, some toy cars might have a red color, while others have a blue color.\n",
        "\n",
        "4. **Methods**: These are like actions the toy cars can do. For example, a method could be \"go fast\" or \"honk.\" It's like telling the toy car what to do.\n",
        "\n",
        "5. **Inheritance**: Imagine you have a big toy car box, and inside it, there are small boxes for different types of cars, like sports cars and trucks. OOP lets us make new toy cars that are like the ones in those small boxes. We can use the blueprint (class) of the small box cars to make more cars that work the same way.\n",
        "\n",
        "So, Object-Oriented Programming is like playing with toy cars. You have **different types of cars (objects) with special things they can do (methods) and different looks (attributes)**, and you can make more cars that are just like the ones you already have. It helps organize and make sense of things in computer programs, just like you organize your toy cars when you play with them."
      ],
      "metadata": {
        "id": "JYuqtatwQuoo"
      }
    },
    {
      "cell_type": "markdown",
      "source": [
        "# Classes\n",
        "A class is a description of an object's characteristics.\n",
        "\n",
        "A Class is code that specifies the **data attributes**(data) and **methods**(functionality) for a particular type of object.\n",
        "\n",
        "Think of a Class as a \"blueprint\" from which objects may be created.\n",
        "\n",
        "(You could think of a Class as a cookie cutter, and the objects created from the class as cookies.)"
      ],
      "metadata": {
        "id": "j4Oze33vUU0S"
      }
    },
    {
      "cell_type": "markdown",
      "source": [
        "As we mentioned earlier: Classes are a fundamental concept in Python, and you may be using them without even realizing it. Here are some more common examples of how classes are used in Python:\n",
        "\n",
        "Built-in Classes:\n",
        "Python provides many built-in classes that you use regularly. For instance:\n",
        "```str```: When you create a string like ```my_string = \"Hello, World!\"```, you are using the str class.\n",
        "```list``` and ```dict```: Similarly, when you create lists and dictionaries, you are using the ```list``` and ```dict``` classes, respectively."
      ],
      "metadata": {
        "id": "hY-NtYsvVSNT"
      }
    },
    {
      "cell_type": "markdown",
      "source": [
        "# Creating Custom Classes\n",
        "You can define your own classes to represent real-world objects or abstract concepts. For example:"
      ],
      "metadata": {
        "id": "yUJcRlktV4Kd"
      }
    },
    {
      "cell_type": "code",
      "source": [
        "# Define the 'Insect' class\n",
        "# The Insect class holds the insect information\n",
        "class Insect:\n",
        "    # the __init__ method initializes the attributes (the data)\n",
        "    def __init__(self, name, legs, wings=False):\n",
        "        self.name = name\n",
        "        self.legs = legs\n",
        "        self.wings = wings\n",
        "\n",
        "    # the make_sound method sets the sound attribute\n",
        "    def make_sound(self):\n",
        "        return \"No specific sound\"\n",
        "\n",
        "# Create instances of 'Insect' to represent different insects\n",
        "# Each object that is created from a Class is called an instance of the class\n",
        "butterfly = Insect(\"Butterfly\", 6, True)\n",
        "ant = Insect(\"Ant\", 6, False)\n",
        "bee = Insect(\"Bee\", 6, True)\n",
        "\n",
        "# Access attributes and methods\n",
        "print(f\"{butterfly.name} has {butterfly.legs} legs and {'wings' if butterfly.wings else 'no wings'}.\")\n",
        "print(f\"{ant.name} has {ant.legs} legs and {'wings' if ant.wings else 'no wings'}.\")\n",
        "print(f\"{bee.name} has {bee.legs} legs and {'wings' if bee.wings else 'no wings'}.\")\n",
        "print(f\"{butterfly.name} makes the sound: {butterfly.make_sound()}\")\n",
        "print(f\"{ant.name} makes the sound: {ant.make_sound()}\")\n",
        "print(f\"{bee.name} makes the sound: {bee.make_sound()}\")\n"
      ],
      "metadata": {
        "id": "Y_TEpPpfWYX4"
      },
      "execution_count": null,
      "outputs": []
    },
    {
      "cell_type": "markdown",
      "source": [
        "In this example:\n",
        "\n",
        "We have a single class called Insect that represents insects. The class has attributes name, legs, and an optional attribute wings. It also has a make_sound method, which returns a generic insect sound.\n",
        "We create instances of the Insect class (butterfly, ant, and bee) to represent different insects.\n",
        "We access the attributes and methods of each Insect instance to display information about the insects, including their names, the number of legs, the presence of wings, and the sounds they make.\n",
        "This code demonstrates how you can create instances of a single class to represent various insects, each with its own attributes and behaviors.\n",
        "\n",
        "\n",
        "\n"
      ],
      "metadata": {
        "id": "XPRAceKkWaJ7"
      }
    },
    {
      "cell_type": "code",
      "source": [],
      "metadata": {
        "id": "elP738-ZOVgv"
      },
      "execution_count": null,
      "outputs": []
    },
    {
      "cell_type": "markdown",
      "source": [
        "# Let's revisit Project 1:"
      ],
      "metadata": {
        "id": "fybtgQ1HNzuk"
      }
    },
    {
      "cell_type": "markdown",
      "metadata": {
        "cell_id": "e39ed6b68f63454f883f80d4cffff500",
        "deepnote_cell_type": "markdown",
        "id": "AmbSIvdTE864"
      },
      "source": [
        "# Project 1, Gene Finding!"
      ]
    },
    {
      "cell_type": "markdown",
      "metadata": {
        "cell_id": "04e45204d59d4fd98f76b0d08222e2ac",
        "deepnote_cell_type": "markdown",
        "id": "ZXbJpmxLE867"
      },
      "source": [
        "## Step one: duplicate this notebook and set the sharing settings to COMMENT!"
      ]
    },
    {
      "cell_type": "code",
      "source": [
        "# you can run this cell to import the fasta file we are using:\n",
        "!wget https://raw.githubusercontent.com/Peziza/306/main/X73525.fasta"
      ],
      "metadata": {
        "id": "rQgABnZ-5yJp",
        "colab": {
          "base_uri": "https://localhost:8080/"
        },
        "outputId": "564898a3-c23c-4af1-dd29-b08308f2b56a"
      },
      "execution_count": null,
      "outputs": [
        {
          "output_type": "stream",
          "name": "stdout",
          "text": [
            "--2023-09-22 18:28:29--  https://raw.githubusercontent.com/Peziza/306/main/X73525.fasta\n",
            "Resolving raw.githubusercontent.com (raw.githubusercontent.com)... 185.199.108.133, 185.199.109.133, 185.199.110.133, ...\n",
            "Connecting to raw.githubusercontent.com (raw.githubusercontent.com)|185.199.108.133|:443... connected.\n",
            "HTTP request sent, awaiting response... 200 OK\n",
            "Length: 6547 (6.4K) [text/plain]\n",
            "Saving to: ‘X73525.fasta’\n",
            "\n",
            "\rX73525.fasta          0%[                    ]       0  --.-KB/s               \rX73525.fasta        100%[===================>]   6.39K  --.-KB/s    in 0s      \n",
            "\n",
            "2023-09-22 18:28:29 (61.1 MB/s) - ‘X73525.fasta’ saved [6547/6547]\n",
            "\n"
          ]
        }
      ]
    },
    {
      "cell_type": "markdown",
      "metadata": {
        "tags": [],
        "cell_id": "afcc271b3d974d28919c206a3692ffbe",
        "deepnote_cell_type": "markdown",
        "id": "2TBf13U0E868"
      },
      "source": [
        "### 1. Reading the file\n",
        "Write a function that reads a fasta file that has one sequence in it. It should take as input a filename, and it should return a string of DNA. Call your function with the input `'X73525.fasta'` and store the output in a variable called `dna_string`. Test that it worked by printing the length of `dna_string` after you call the function. You should get `6387`.\n",
        "* Remember to use .strip() as you read through the lines of the file to remove newlines!"
      ]
    },
    {
      "cell_type": "code",
      "metadata": {
        "cell_id": "28c8e7f3541d48efbbfa98f56a5369c4",
        "source_hash": "2c73defc",
        "output_cleared": true,
        "execution_start": 1639980975312,
        "execution_millis": 8,
        "deepnote_to_be_reexecuted": false,
        "deepnote_cell_type": "code",
        "id": "Ugi6SQ-wE868",
        "colab": {
          "base_uri": "https://localhost:8080/"
        },
        "outputId": "7e2adfd2-0e7a-44a7-b533-2a3486587360"
      },
      "source": [
        "def fasta_reader(fname):\n",
        "    '''\n",
        "    given a fasta file name input with one sequence, return a string with all\n",
        "    the bases. It records the sequence name line, but doesn't output it\n",
        "    '''\n",
        "    with open(fname, 'r') as f: # here we are using the class file and using the open() function\n",
        "        DNA_string = ''\n",
        "        for line in f:\n",
        "            if line[0] == '>':\n",
        "                title_line = line.strip()\n",
        "            else:\n",
        "                DNA_string += line.strip()\n",
        "    return DNA_string\n",
        "\n",
        "dna_string = fasta_reader('X73525.fasta') # here we have defined an object dna_string that belongs to the String class. We can use string methods on this!\n",
        "print(type(dna_string))\n",
        "print(len(dna_string))"
      ],
      "execution_count": null,
      "outputs": [
        {
          "output_type": "stream",
          "name": "stdout",
          "text": [
            "<class 'str'>\n",
            "6387\n"
          ]
        }
      ]
    },
    {
      "cell_type": "markdown",
      "metadata": {
        "tags": [],
        "cell_id": "a7466053a0e84086a9e158c835c20ecc",
        "deepnote_cell_type": "markdown",
        "id": "zXGo_NQwE868"
      },
      "source": [
        "### 2. Making the reverse complement\n",
        "Since genes can also occur on the other strand of DNA (also in the 5'->3' direction), we need to look for genes in the reverse complement too. In the block below, write a function (or you can copy-and-paste from your homework) that takes as input a string of DNA and returns a string that is the reverse complement. Call this function with `dna_string` as your input and store the output in a variable called `r_dna_string`. Again, check its length, which should also be `6387`."
      ]
    },
    {
      "cell_type": "code",
      "metadata": {
        "tags": [],
        "cell_id": "31694da8a3c44989865ef89e20145db2",
        "source_hash": "ebf2c85d",
        "output_cleared": true,
        "execution_start": 1639981216538,
        "execution_millis": 8,
        "deepnote_to_be_reexecuted": false,
        "deepnote_cell_type": "code",
        "id": "cPK4f1CFE868"
      },
      "source": [
        "def reverse_comp(s):\n",
        "    '''returns the reverse complement of a DNA string'''\n",
        "    new_s = ''               # make an empty string to hold our reverse-complemented DNA\n",
        "    reversed_s = s[::-1]     # reverses DNA string\n",
        "    for base in reversed_s:  # loop over bases in the reversed string\n",
        "        if base == 'A':\n",
        "            new_s += 'T'\n",
        "        elif base == 'T':\n",
        "            new_s += 'A'\n",
        "        elif base == 'G':\n",
        "            new_s += 'C'\n",
        "        elif base == 'C':\n",
        "            new_s += 'G'\n",
        "    return new_s    # return the new string once we're done with the loop\n",
        "\n",
        "r_dna_string = reverse_comp(dna_string)\n",
        "print(len(r_dna_string))\n"
      ],
      "execution_count": null,
      "outputs": []
    },
    {
      "cell_type": "markdown",
      "source": [
        "Up until this point, we have written two functions: ```fasta_reader``` and ```reverse_comp```.\n",
        "\n",
        "If we were to break it down even further we have:\n",
        "\n",
        "\n",
        "1. The `fasta_reader` function reads a FASTA file, extracts the DNA sequence (without the title line), and returns it as a string.\n",
        "\n",
        "2. The `reverse_comp` function takes a DNA string as input, computes its reverse complement, and returns the reverse complemented DNA string.\n",
        "\n",
        "3. Outside of these functions, the code calls `fasta_reader` to read a FASTA file called 'X73525.fasta' and stores the DNA sequence in the `dna_string` variable. Then, it calls the `reverse_comp` function to compute the reverse complement of `dna_string` and stores it in the `r_dna_string` variable.\n",
        "\n",
        "4. Finally, the code prints the length of `r_dna_string`.\n"
      ],
      "metadata": {
        "id": "71Y_a8n6LVhu"
      }
    },
    {
      "cell_type": "markdown",
      "source": [
        "The code is written in a **procedural style**, which means it doesn't use **Object-Oriented Programming (OOP)** concepts. In procedural programming, code is organized around functions, and data is often passed between functions as arguments.\n"
      ],
      "metadata": {
        "id": "1LX4vjktL7hL"
      }
    },
    {
      "cell_type": "markdown",
      "source": [
        "\n",
        "While this code is not based on OOP principles, it is a functional and straightforward way to accomplish the task of reading a FASTA file, computing a reverse complement, and displaying the result. OOP would introduce the concept of classes and objects to encapsulate and organize the functionality, but in this case, a procedural approach is sufficient."
      ],
      "metadata": {
        "id": "UfHI-0zYMC9R"
      }
    },
    {
      "cell_type": "markdown",
      "source": [
        "# Below is an example using OOP for the first part of Project 1:"
      ],
      "metadata": {
        "id": "hDIxyA5UMPaR"
      }
    },
    {
      "cell_type": "code",
      "source": [
        "# Defines the 'DNASequence' class\n",
        "# The DNASequence class holds the information (data and functionality) of DNA sequences\n",
        "class DNASequence:\n",
        "    def __init__(self, fname):\n",
        "        # Constructor: Initializes the DNASequence object with a filename (fname).\n",
        "        # It also calls the _read_fasta method to read the DNA sequence from the file.\n",
        "        self.fname = fname # attributes\n",
        "        self.sequence = self._read_fasta() # calls a method to read the DNA sequence from the file\n",
        "\n",
        "    def _read_fasta(self):\n",
        "        '''\n",
        "        Given a fasta file name input with one sequence, return a string with all\n",
        "        the bases. It records the sequence name line, but doesn't output it.\n",
        "        '''\n",
        "        with open(self.fname, 'r') as f:\n",
        "            DNA_string = ''\n",
        "            for line in f:\n",
        "                if line[0] == '>':\n",
        "                    title_line = line.strip()  # Record the title line (sequence name)\n",
        "                else:\n",
        "                    DNA_string += line.strip()  # Concatenate DNA sequence lines\n",
        "        return DNA_string\n",
        "\n",
        "    def length(self):\n",
        "        # Returns the length of the DNA sequence.\n",
        "        return len(self.sequence)\n",
        "\n",
        "    def reverse_complement(self):\n",
        "        '''Returns the reverse complement of the DNA sequence'''\n",
        "        new_s = ''               # Initialize an empty string to hold the reverse complemented DNA\n",
        "        reversed_s = self.sequence[::-1]     # Reverse the DNA sequence\n",
        "        for base in reversed_s:  # Loop over bases in the reversed string\n",
        "            if base == 'A':\n",
        "                new_s += 'T'     # Complement 'A' with 'T'\n",
        "            elif base == 'T':\n",
        "                new_s += 'A'     # Complement 'T' with 'A'\n",
        "            elif base == 'G':\n",
        "                new_s += 'C'     # Complement 'G' with 'C'\n",
        "            elif base == 'C':\n",
        "                new_s += 'G'     # Complement 'C' with 'G'\n",
        "        return new_s    # Return the new string once the loop is done\n",
        "\n",
        "# Create an instance (objects) of the DNASequence class and perform operations\n",
        "dna_sequence = DNASequence('X73525.fasta')  # Create an object with a specified FASTA file\n",
        "print(\"Length of DNA sequence:\", dna_sequence.length())  # Print the length of the DNA sequence\n",
        "\n",
        "reverse_complement_sequence = dna_sequence.reverse_complement()  # Compute reverse complement\n",
        "print(\"Length of reverse complemented DNA sequence:\", len(reverse_complement_sequence))  # Print its length\n"
      ],
      "metadata": {
        "id": "K8g47W2sMExi"
      },
      "execution_count": null,
      "outputs": []
    },
    {
      "cell_type": "code",
      "source": [],
      "metadata": {
        "id": "-fWCFvoCMEuJ"
      },
      "execution_count": null,
      "outputs": []
    },
    {
      "cell_type": "markdown",
      "source": [
        "For our project 1, Procedural Programming worked just fine!\n"
      ],
      "metadata": {
        "id": "GT5i7JjSNBmE"
      }
    },
    {
      "cell_type": "markdown",
      "source": [
        "Whether the Object-Oriented Programming (OOP) approach is \"better\" than a procedural approach depends on various factors, including the specific problem you're trying to solve, the complexity of your code, and your team's coding style and preferences. Both OOP and procedural programming have their strengths and use cases:\n",
        "\n",
        "**Advantages of the OOP Approach:**\n",
        "\n",
        "1. **Modularity and Encapsulation:** OOP encourages the organization of code into classes and objects, which can encapsulate data and behavior together. This makes it easier to manage and maintain code as it grows.\n",
        "\n",
        "2. **Reusability:** OOP promotes code reusability. Once you've defined a class, you can create multiple instances of that class, reducing code duplication.\n",
        "\n",
        "3. **Abstraction:** OOP allows you to abstract complex systems into simpler, more understandable components (objects). This can improve code readability and comprehension.\n",
        "\n",
        "4. **Inheritance:** Inheritance allows you to create new classes that inherit attributes and methods from existing classes. This promotes code reuse and helps represent real-world relationships.\n",
        "\n",
        "5. **Polymorphism:** Polymorphism enables objects of different classes to be treated as objects of a common superclass, allowing for more flexible and generic code.\n",
        "\n",
        "**Advantages of the Procedural Approach:**\n",
        "\n",
        "1. **Simplicity:** Procedural code tends to be simpler and easier to understand for smaller scripts and straightforward tasks.\n",
        "\n",
        "2. **Performance:** In some cases, procedural code can be more efficient than OOP code, especially for low-level operations.\n",
        "\n",
        "3. **Compatibility:** Procedural code may be more compatible with certain programming paradigms or environments where OOP is not well-suited.\n",
        "\n",
        "**Which Approach to Choose:**\n",
        "\n",
        "- For simple scripts and tasks, the procedural approach may be more straightforward and efficient.\n",
        "\n",
        "- For complex systems, software architecture, or large-scale projects, OOP is often preferred because it provides a more organized and maintainable structure. It encourages best practices such as encapsulation, modularity, and abstraction.\n",
        "\n",
        "- It's also common to use a combination of both paradigms when appropriate. For instance, a large OOP-based system might use procedural-style functions for certain utility tasks.\n",
        "\n",
        "In summary, the choice between OOP and procedural programming depends on the context and requirements of your project. OOP is typically favored for larger, more complex applications where organization and scalability are crucial, while procedural programming can be suitable for smaller, more focused tasks or when performance is a primary concern. Ultimately, the \"better\" approach is the one that best suits your specific development needs."
      ],
      "metadata": {
        "id": "Rd8XldEtNGuk"
      }
    },
    {
      "cell_type": "code",
      "source": [],
      "metadata": {
        "id": "AxcDKYzOMErM"
      },
      "execution_count": null,
      "outputs": []
    },
    {
      "cell_type": "markdown",
      "source": [
        "# Additional Resources:\n",
        "\n",
        "Runestone: Chapter 20 Defining your own Classes\n",
        "\n",
        "Chapter 53 from the book A Smarter Way to Learn Python by Mark Myers. It also has online exercises to go along with the chapter: http://www.asmarterwaytolearn.com/python/53.html\n",
        "(I'm trying to find a way to attach the chapter)\n",
        "\n",
        "These first two websites are places I usually go when I'm working with a new concept or need a refresher:\n",
        "\n",
        "https://www.w3schools.com/python/python_classes.asp\n",
        "\n",
        "https://www.geeksforgeeks.org/python-classes-and-objects/\n",
        "\n",
        "This might be helpful, too:\n",
        "https://towardsdatascience.com/introduction-to-python-classes-da526ff745df\n",
        "\n",
        "Here is a link to a free html version of Think Python (I really like this book). Here is the chapter on Classes that might be useful: (might be Python 2 and not Python 3)\n",
        "https://greenteapress.com/thinkpython2/html/thinkpython2016.html\n",
        "\n",
        "**Videos:**\n",
        "\n",
        "4 Pillars of OOP\n",
        "(programming with Mosh)\n",
        "https://www.youtube.com/watch?v=pTB0EiLXUC8\n",
        "\n",
        "Classes and Objects with Python\n",
        "(CS Dojo)\n",
        "https://www.youtube.com/watch?v=wfcWRAxRVBA\n"
      ],
      "metadata": {
        "id": "q_5q6Gv2Bcmf"
      }
    },
    {
      "cell_type": "code",
      "source": [],
      "metadata": {
        "id": "TrQOUuhoMElr"
      },
      "execution_count": null,
      "outputs": []
    },
    {
      "cell_type": "code",
      "source": [],
      "metadata": {
        "id": "B31LAj3sMEcc"
      },
      "execution_count": null,
      "outputs": []
    },
    {
      "cell_type": "markdown",
      "source": [
        "# The rest of project 1:"
      ],
      "metadata": {
        "id": "qOa1iNxCMDoj"
      }
    },
    {
      "cell_type": "markdown",
      "metadata": {
        "tags": [],
        "cell_id": "7708fdb9f1114336b154c3e29a11d146",
        "deepnote_cell_type": "markdown",
        "id": "lubQfQsnE868"
      },
      "source": [
        "### 3. Now it's time for the hard part: finding ORFs.\n",
        "If you want a challenge without spoilers, try to come up with your own method to find ORFs! Otherwise, **check out the instructions for this part in the Part3_instructions.ipynb file**!"
      ]
    },
    {
      "cell_type": "code",
      "metadata": {
        "tags": [],
        "cell_id": "6debe2b7caf646399984f4629ba58038",
        "source_hash": "a2231f4f",
        "output_cleared": true,
        "execution_start": 1639982687300,
        "execution_millis": 1,
        "deepnote_to_be_reexecuted": false,
        "deepnote_cell_type": "code",
        "id": "0yvOwD5CE869"
      },
      "source": [],
      "execution_count": null,
      "outputs": []
    },
    {
      "cell_type": "markdown",
      "metadata": {
        "tags": [],
        "cell_id": "e8c399805c30416783a32302b817391b",
        "deepnote_cell_type": "markdown",
        "id": "cXJmVHjIE869"
      },
      "source": [
        "### 4. Remember: there are 6 reading frames\n",
        "Now you need to use your function (which you don't need to copy and paste below, it is already defined above!) to find the ORFs in the other 6 reading frames. You can store the output of each of these function calls in variables like `orfs2`, `orfs3`, `r_orfs1`, `r_orfs2`, and `r_orfs3`. You can add all these lists together to get one big list of ORFs! (You may have a different way to do this that doesn't use all these variables - that's ok too!). If you followed the algorithm above this list should have 115 entries.\n",
        "* (Note: if you used your own method for #3 you may have already though about reading frames - this assumes you made a function to find ORFs in one reading frame at a time)"
      ]
    },
    {
      "cell_type": "code",
      "metadata": {
        "tags": [],
        "cell_id": "ec667908a7e14d4b91c07dad4d4baa47",
        "source_hash": "cdc8dd2b",
        "output_cleared": true,
        "execution_start": 1639982946172,
        "execution_millis": 11,
        "deepnote_to_be_reexecuted": false,
        "deepnote_cell_type": "code",
        "id": "OBb8HGg8E869"
      },
      "source": [],
      "execution_count": null,
      "outputs": []
    },
    {
      "cell_type": "markdown",
      "metadata": {
        "tags": [],
        "cell_id": "f0f98b8d732f4c5781de0364d9716f68",
        "deepnote_cell_type": "markdown",
        "id": "CTpJ6ckPE869"
      },
      "source": [
        "### 5. Filtering by length and translating\n",
        "Based on our discussions in class, there is reason to believe an ORF is more likely to be a gene if it is longer. Here, you should make a new list called `genes` that has translated versions of all the ORFs you think are long enough to be likely to be real genes (based on our discussion in class or your own simulations of ORF lengths in random DNA (doing these simulations is extra credit)). To do the filtering and translating, you will probably want to:\n",
        "* Use a for loop\n",
        "* Use an if statement\n",
        "* Write a function to translate from DNA sequences to amino acid sequences (which will use the dictionary provided below)"
      ]
    },
    {
      "cell_type": "code",
      "metadata": {
        "tags": [],
        "cell_id": "3170365782fa40639d4f88e8e371461d",
        "source_hash": "335397ca",
        "output_cleared": true,
        "execution_start": 1639983639541,
        "execution_millis": 5,
        "deepnote_to_be_reexecuted": false,
        "deepnote_cell_type": "code",
        "id": "_3IGx1HYE869"
      },
      "source": [
        "aa_dict = {\n",
        "    'AAA': 'K',  'AAC': 'N',  'AAG': 'K',  'AAT': 'N',  'ACA': 'T',  'ACC': 'T',\n",
        "    'ACG': 'T',  'ACT': 'T',  'AGA': 'R',  'AGC': 'S',  'AGG': 'R',  'AGT': 'S',\n",
        "    'ATA': 'I',  'ATC': 'I',  'ATG': 'M',  'ATT': 'I',  'CAA': 'Q',  'CAC': 'H',\n",
        "    'CAG': 'Q',  'CAT': 'H',  'CCA': 'P',  'CCC': 'P',  'CCG': 'P',  'CCT': 'P',\n",
        "    'CGA': 'R',  'CGC': 'R',  'CGG': 'R',  'CGT': 'R',  'CTA': 'L',  'CTC': 'L',\n",
        "    'CTG': 'L',  'CTT': 'L',  'GAA': 'E',  'GAC': 'D',  'GAG': 'E',  'GAT': 'D',\n",
        "    'GCA': 'A',  'GCC': 'A',  'GCG': 'A',  'GCT': 'A',  'GGA': 'G',  'GGC': 'G',\n",
        "    'GGG': 'G',  'GGT': 'G',  'GTA': 'V',  'GTC': 'V',  'GTG': 'V',  'GTT': 'V',\n",
        "    'TAA': '*',  'TAC': 'Y',  'TAG': '*',  'TAT': 'Y',  'TCA': 'S',  'TCC': 'S',\n",
        "    'TCG': 'S',  'TCT': 'S',  'TGA': '*',  'TGC': 'C',  'TGG': 'W',  'TGT': 'C',\n",
        "    'TTA': 'L',  'TTC': 'F',  'TTG': 'L',  'TTT': 'F'\n",
        "}\n"
      ],
      "execution_count": null,
      "outputs": []
    },
    {
      "cell_type": "markdown",
      "metadata": {
        "tags": [],
        "cell_id": "206502ffc5614f30b37308e3617d17d6",
        "deepnote_cell_type": "markdown",
        "id": "xxV0g1gqE86-"
      },
      "source": [
        "### 6. Outputting your list of genes in a fasta file\n",
        "This one is easy - we've provided a function that takes as input a list of genes and an output filename (your output filename should be `X73525_genes.fasta`) and write the gene sequences to a fasta file you can use on the BLAST website."
      ]
    },
    {
      "cell_type": "code",
      "metadata": {
        "tags": [],
        "cell_id": "49ca0ba6c3114c94abe256389d76b06d",
        "source_hash": "c333be7e",
        "output_cleared": true,
        "execution_start": 1639983688559,
        "execution_millis": 3,
        "deepnote_to_be_reexecuted": false,
        "deepnote_cell_type": "code",
        "id": "jvjBiJDWE86-"
      },
      "source": [
        "def fasta_writer(gene_list, output_filename):\n",
        "    '''\n",
        "    given a list of genes and an output_filename, output those genes to a fasta file\n",
        "    '''\n",
        "    with open(output_filename, 'w') as f:\n",
        "        gene_counter = 1\n",
        "        for gene in gene_list:\n",
        "            f.write('>gene_'+str(gene_counter)+'\\n')\n",
        "            for i in range(len(gene)//80+1): # writes 80 characters per line\n",
        "                f.write(gene[i*80:i*80+80] + '\\n')\n",
        "            gene_counter += 1\n",
        "\n"
      ],
      "execution_count": null,
      "outputs": []
    },
    {
      "cell_type": "markdown",
      "metadata": {
        "tags": [],
        "cell_id": "a81eaa27fb2245288e100a9624cea685",
        "deepnote_cell_type": "markdown",
        "id": "rDFPxs7uE86-"
      },
      "source": [
        "### 7. One function to rule them all\n",
        "Look back at the code you've written. Your goal now is to make one function that takes as input an input fasta file name (`X73525.fasta`) and an output fasta file name (`X73525_genes.fasta`) and does all the steps at once. Hint: you will want to use all the code above that is **not** in another function. You do not need to copy-and-paste the functions down here, they are already defined above!\n",
        "\n",
        "#### Why????\n",
        "This may seem redundant, but it is actually useful. Now if we were to give you another file with a mystery DNA sequence, you could simply call this one function and quickly have an output file with all the genes your algorithm found in that file!"
      ]
    },
    {
      "cell_type": "code",
      "metadata": {
        "tags": [],
        "cell_id": "2150926972d643b59ff736e6a652bcf1",
        "source_hash": "9a5285b5",
        "output_cleared": true,
        "execution_start": 1639983876434,
        "execution_millis": 26,
        "deepnote_to_be_reexecuted": false,
        "deepnote_cell_type": "code",
        "id": "6QgFctZ9E86-"
      },
      "source": [],
      "execution_count": null,
      "outputs": []
    },
    {
      "cell_type": "markdown",
      "metadata": {
        "tags": [],
        "cell_id": "f75d72c131b2452abb03c94ba56579f3",
        "deepnote_cell_type": "markdown",
        "id": "1FFDU6pCE86-"
      },
      "source": [
        "### Remember:\n",
        "* Read the instructions!\n",
        "* Think through your plan and write it out before getting into the coding (we will work on this a bit together in class!)\n",
        "* Ask for help when you get stuck!"
      ]
    },
    {
      "cell_type": "code",
      "metadata": {
        "tags": [],
        "cell_id": "2e065652a73f4aa6ac1366fa5001393e",
        "output_cleared": true,
        "deepnote_cell_type": "code",
        "id": "tw8nWboIE86-"
      },
      "source": [],
      "execution_count": null,
      "outputs": []
    },
    {
      "cell_type": "markdown",
      "source": [
        "Resources for this notebook:\n",
        "\n",
        "https://towardsdatascience.com/explaining-python-classes-in-a-simple-way-e3742827c8b5\n",
        "\n",
        "Gaddis, Starting out with Python 6e, Pearson, 2023\n",
        "\n",
        "ChatGPT3"
      ],
      "metadata": {
        "id": "JH8kJ3pxOvkH"
      }
    },
    {
      "cell_type": "markdown",
      "source": [
        "<a style='text-decoration:none;line-height:16px;display:flex;color:#5B5B62;padding:10px;justify-content:end;' href='https://deepnote.com?utm_source=created-in-deepnote-cell&projectId=9f51c415-3606-41a2-94cb-a04bdc1ac789' target=\"_blank\">\n",
        "<img alt='Created in deepnote.com' style='display:inline;max-height:16px;margin:0px;margin-right:7.5px;' src='data:image/svg+xml;base64,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' > </img>\n",
        "Created in <span style='font-weight:600;margin-left:4px;'>Deepnote</span></a>"
      ],
      "metadata": {
        "created_in_deepnote_cell": true,
        "deepnote_cell_type": "markdown",
        "id": "MoLnV4MkE86_"
      }
    }
  ],
  "nbformat": 4,
  "nbformat_minor": 0,
  "metadata": {
    "deepnote": {},
    "kernelspec": {
      "name": "python3",
      "language": "python",
      "display_name": "Python 3"
    },
    "language_info": {
      "name": "python",
      "version": "3.7.1",
      "mimetype": "text/x-python",
      "file_extension": ".py",
      "pygments_lexer": "ipython3",
      "codemirror_mode": {
        "name": "ipython",
        "version": 3
      },
      "nbconvert_exporter": "python"
    },
    "deepnote_notebook_id": "58c19bf4e4bd4cd2b32d95377f34feb3",
    "deepnote_execution_queue": [],
    "colab": {
      "provenance": [],
      "include_colab_link": true
    }
  }
}